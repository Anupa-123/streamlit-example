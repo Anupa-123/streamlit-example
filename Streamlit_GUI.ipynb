{
  "nbformat": 4,
  "nbformat_minor": 0,
  "metadata": {
    "colab": {
      "provenance": [],
      "authorship_tag": "ABX9TyNrvRgBM0EZ+7IQJjUZq35D",
      "include_colab_link": true
    },
    "kernelspec": {
      "name": "python3",
      "display_name": "Python 3"
    },
    "language_info": {
      "name": "python"
    }
  },
  "cells": [
    {
      "cell_type": "markdown",
      "metadata": {
        "id": "view-in-github",
        "colab_type": "text"
      },
      "source": [
        "<a href=\"https://colab.research.google.com/github/Anupa-123/streamlit-example/blob/master/Streamlit_GUI.ipynb\" target=\"_parent\"><img src=\"https://colab.research.google.com/assets/colab-badge.svg\" alt=\"Open In Colab\"/></a>"
      ]
    },
    {
      "cell_type": "code",
      "source": [
        "import sys\n",
        "sys.path\n",
        "['', '/usr/local/lib/python35.zip', ...,\n",
        "'~/envs/tutorial-env/lib/python3.5/site-packages']\n"
      ],
      "metadata": {
        "colab": {
          "base_uri": "https://localhost:8080/"
        },
        "id": "37AwnbyQNqU6",
        "outputId": "4845d944-4c3f-46c1-ea34-1390daf16c67"
      },
      "execution_count": 41,
      "outputs": [
        {
          "output_type": "execute_result",
          "data": {
            "text/plain": [
              "['',\n",
              " '/usr/local/lib/python35.zip',\n",
              " Ellipsis,\n",
              " '~/envs/tutorial-env/lib/python3.5/site-packages']"
            ]
          },
          "metadata": {},
          "execution_count": 41
        }
      ]
    },
    {
      "cell_type": "code",
      "source": [
        "import streamlit as st\n",
        "import yfinance as yf"
      ],
      "metadata": {
        "id": "zZw3vAwEP9Gw"
      },
      "execution_count": 44,
      "outputs": []
    },
    {
      "cell_type": "code",
      "source": [
        "from datetime import date\n",
        "from prophet import Prophet\n",
        "from prophet.plot import plot_plotly\n",
        "from plotly import graph_objs as go\n",
        "from pandas import DataFrame\n"
      ],
      "metadata": {
        "id": "-VaPVZdSPsEm"
      },
      "execution_count": 45,
      "outputs": []
    },
    {
      "cell_type": "code",
      "source": [
        "START = \"2015-01-01\"\n",
        "TODAY = date.today().strftime(\"%Y-%m-%d\")"
      ],
      "metadata": {
        "id": "vwksSb98ZgoI"
      },
      "execution_count": 46,
      "outputs": []
    },
    {
      "cell_type": "code",
      "source": [
        "\n",
        "@st.cache\n",
        "def load_data(ticker: str) -> DataFrame:\n",
        "    data = yf.download(ticker, START, TODAY)\n",
        "    data.reset_index(inplace=True)\n",
        "    return data"
      ],
      "metadata": {
        "id": "jEQEuheZZl50"
      },
      "execution_count": 47,
      "outputs": []
    },
    {
      "cell_type": "code",
      "source": [
        "def plot_raw_data(data: DataFrame, selected_stock: str) -> None:\n",
        "    fig = go.Figure()\n",
        "    fig.add_trace(go.Scatter(\n",
        "        x=data[\"Date\"], y=data[\"Open\"], name=\"Opening Price\")\n",
        "    )\n",
        "    fig.add_trace(go.Scatter(\n",
        "        x=data[\"Date\"], y=data[\"Close\"], name=\"Closing Price\")\n",
        "    )\n",
        "    fig.update_layout(\n",
        "        title_text=f\"Stock Prices (USD) for {selected_stock}\",\n",
        "        xaxis_rangeslider_visible=True,\n",
        "        xaxis_title_text=\"Time Stamp\",\n",
        "        yaxis_title_text=\"Price (USD)\",\n",
        "        height=500, width=800\n",
        "    )\n",
        "    st.plotly_chart(fig)"
      ],
      "metadata": {
        "id": "fAD6bx8kZl3K"
      },
      "execution_count": 48,
      "outputs": []
    },
    {
      "cell_type": "code",
      "source": [
        "def main():\n",
        "\n",
        "    st.set_page_config(\n",
        "        page_title=\"Stock Prediction App\",\n",
        "        page_icon=\":chart_with_upwards_trend:\"    \n",
        "    )\n",
        "\n",
        "    st.title(\"Stock Prediction App\")\n",
        "\n",
        "    stocks = {\n",
        "        \"Apple Inc. (AAPL)\" : \"AAPL\",\n",
        "        \"Microsoft Corporation (MSFT)\" : \"MSFT\",\n",
        "        \"Twitter, Inc. (TWTR)\" : \"TWTR\",\n",
        "        \"Tesla, Inc. (TSLA)\" : \"TSLA\",\n",
        "        \"Alphabet Inc. (GOOG)\" : \"GOOG\", \n",
        "        \"Meta Platforms, Inc. (META)\" : \"META\"\n",
        "    }\n",
        "\n",
        "    selected_stock = st.selectbox(\"Select Stock for Prediction\", list(stocks.keys()))\n",
        "\n",
        "    n_years = st.slider(\"Years of Prediction\", 1, 5)\n",
        "    periods = n_years * 365\n",
        "\n",
        "    data_load_state = st.text(\"Loading Data ...\")\n",
        "    data = load_data(stocks[selected_stock])\n",
        "    data_load_state.text(\"Loading Data ... Done!\")\n",
        "\n",
        "    st.subheader(\"Stock Prices\")\n",
        "    # st.write(data.tail())\n",
        "\n",
        "    plot_raw_data(data, selected_stock)\n",
        "\n",
        "    training_data = data[[\"Date\", \"Close\"]]\n",
        "\n",
        "#https://facebook.github.io/prophet/docs/quick_start.html#python-api\n",
        "# the input to prophet is always a dataframe with two columns: ds and y\n",
        "    training_data.rename(columns={\n",
        "        \"Date\": \"ds\", \"Close\": \"y\"\n",
        "    }, inplace=True)\n",
        "\n",
        "    model = Prophet()\n",
        "    model.fit(training_data)\n",
        "\n",
        "    future = model.make_future_dataframe(periods=periods)\n",
        "    predictions = model.predict(future)\n",
        "\n",
        "    st.subheader(\"Predictions\")\n",
        "\n",
        "# st.write(predictions.tail())\n",
        "\n",
        "    fig1 = plot_plotly(model, predictions)\n",
        "\n",
        "    fig1.update_layout(\n",
        "        title_text=f\"Prediction for {selected_stock}\",\n",
        "        xaxis_title_text=\"Time Stamp\",\n",
        "        yaxis_title_text=\"Price (USD)\",\n",
        "        showlegend=True\n",
        "     )\n",
        "\n",
        "    fig1_data = fig1.to_dict()\n",
        "\n",
        "    fig1_data[\"data\"][1][\"name\"] = \"Prediction Lower Bound\"\n",
        "    fig1_data[\"data\"][3][\"name\"] = \"Prediction Upper Bound\"\n",
        "\n",
        "    del fig1_data[\"layout\"][\"xaxis\"][\"rangeselector\"]\n",
        "\n",
        "    st.plotly_chart(fig1_data)\n",
        "\n",
        "# st.subheader(\"Prediction Components\")\n",
        "    # fig2 = model.plot_components(predictions)\n",
        "    # st.write(fig2)\n",
        "    if __name__ == \"__main__\":\n",
        "\n",
        "       main()\n",
        "\n",
        "\n",
        "\n"
      ],
      "metadata": {
        "id": "mx04CxeVZsfs"
      },
      "execution_count": 75,
      "outputs": []
    },
    {
      "cell_type": "code",
      "source": [],
      "metadata": {
        "id": "VxCjeHTEZga6"
      },
      "execution_count": null,
      "outputs": []
    },
    {
      "cell_type": "code",
      "source": [],
      "metadata": {
        "id": "etFf42wLQIDf"
      },
      "execution_count": null,
      "outputs": []
    },
    {
      "cell_type": "code",
      "source": [],
      "metadata": {
        "id": "R-R1bQaiQIAs"
      },
      "execution_count": null,
      "outputs": []
    }
  ]
}